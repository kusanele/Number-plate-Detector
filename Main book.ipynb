{
 "cells": [
  {
   "cell_type": "markdown",
   "metadata": {},
   "source": [
    "download data"
   ]
  },
  {
   "cell_type": "code",
   "execution_count": 1,
   "metadata": {},
   "outputs": [],
   "source": [
    "import requests \n",
    "url ='https://md-datasets-cache-zipfiles-prod.s3.eu-west-1.amazonaws.com/nx9xbs4rgx-2.zip'\n",
    "save_path =\"dataset\"\n",
    "from io import BytesIO\n",
    "from urllib.request import urlopen\n",
    "from zipfile import ZipFile\n",
    "zipurl = 'https://md-datasets-cache-zipfiles-prod.s3.eu-west-1.amazonaws.com/nx9xbs4rgx-2.zip'\n",
    "with urlopen(zipurl) as zipresp:\n",
    "    with ZipFile(BytesIO(zipresp.read())) as zfile:\n",
    "        zfile.extractall('dataset')"
   ]
  },
  {
   "cell_type": "code",
   "execution_count": null,
   "metadata": {},
   "outputs": [],
   "source": []
  }
 ],
 "metadata": {
  "kernelspec": {
   "display_name": "Python 3.9.12 ('Number-plate-Detector-aH5i5Tfz')",
   "language": "python",
   "name": "python3"
  },
  "language_info": {
   "codemirror_mode": {
    "name": "ipython",
    "version": 3
   },
   "file_extension": ".py",
   "mimetype": "text/x-python",
   "name": "python",
   "nbconvert_exporter": "python",
   "pygments_lexer": "ipython3",
   "version": "3.9.12"
  },
  "orig_nbformat": 4,
  "vscode": {
   "interpreter": {
    "hash": "de8400b0923da4e9e35414c86230029a1646d57860b933968492851046ea1513"
   }
  }
 },
 "nbformat": 4,
 "nbformat_minor": 2
}
